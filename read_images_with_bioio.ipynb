{
 "cells": [
  {
   "cell_type": "code",
   "execution_count": null,
   "id": "initial_id",
   "metadata": {
    "collapsed": true
   },
   "outputs": [],
   "source": [
    "import bioio_bioformats\n",
    "import numpy as np\n",
    "from bioio import BioImage\n",
    "\n",
    "\n",
    "def calculate_dynamic_range(image):\n",
    "    min_intensity = np.min(image)\n",
    "    max_intensity = np.max(image)\n",
    "\n",
    "    dynamic_range = max_intensity / min_intensity if min_intensity > 0 else max_intensity\n",
    "    return dynamic_range\n",
    "\n",
    "\n",
    "img = BioImage('./inputs/Experiment-09.czi', reader=bioio_bioformats.Reader)\n",
    "\n",
    "print(f'Dynamic range is {calculate_dynamic_range(img.data)}')\n"
   ]
  }
 ],
 "metadata": {
  "kernelspec": {
   "display_name": "Python 3",
   "language": "python",
   "name": "python3"
  },
  "language_info": {
   "codemirror_mode": {
    "name": "ipython",
    "version": 2
   },
   "file_extension": ".py",
   "mimetype": "text/x-python",
   "name": "python",
   "nbconvert_exporter": "python",
   "pygments_lexer": "ipython2",
   "version": "2.7.6"
  }
 },
 "nbformat": 4,
 "nbformat_minor": 5
}
